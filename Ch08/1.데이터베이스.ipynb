{
 "cells": [
  {
   "cell_type": "code",
   "execution_count": 5,
   "metadata": {},
   "outputs": [],
   "source": [
    "\"\"\"\n",
    "날짜 : 2023/01/13\n",
    "이름 : 김경준\n",
    "내용 : 파이썬 데이터베이스 프로그래밍 실습\n",
    "\"\"\"\n",
    "import pymysql"
   ]
  },
  {
   "cell_type": "code",
   "execution_count": 7,
   "metadata": {},
   "outputs": [
    {
     "ename": "AttributeError",
     "evalue": "'Connection' object has no attribute 'cloes'",
     "output_type": "error",
     "traceback": [
      "\u001b[1;31m---------------------------------------------------------------------------\u001b[0m",
      "\u001b[1;31mAttributeError\u001b[0m                            Traceback (most recent call last)",
      "Cell \u001b[1;32mIn[7], line 19\u001b[0m\n\u001b[0;32m     16\u001b[0m conn\u001b[39m.\u001b[39mcommit()\n\u001b[0;32m     18\u001b[0m \u001b[39m# 데이터베이스 종료\u001b[39;00m\n\u001b[1;32m---> 19\u001b[0m conn\u001b[39m.\u001b[39;49mcloes()\n\u001b[0;32m     21\u001b[0m \u001b[39mprint\u001b[39m(\u001b[39m'\u001b[39m\u001b[39mInsert 완료...\u001b[39m\u001b[39m'\u001b[39m)\n",
      "\u001b[1;31mAttributeError\u001b[0m: 'Connection' object has no attribute 'cloes'"
     ]
    }
   ],
   "source": [
    "# Insert 실습\n",
    "\n",
    "#데이터베이스 접속\n",
    "conn = pymysql.connect(host='127.0.0.1',\n",
    "                        user='root',\n",
    "                        password='1234',\n",
    "                        db='java1db',\n",
    "                        charset='utf8')\n",
    "\n",
    "# SQL 실행객체\n",
    "cur = conn.cursor()\n",
    "\n",
    "# SQL 실행\n",
    "sql = \"insert into `user1` values('p101', '1234', '파이썬', '010-1234-1001', 17)\"\n",
    "cur.execute(sql)\n",
    "conn.commit()\n",
    "\n",
    "# 데이터베이스 종료\n",
    "conn.cloes()\n",
    "\n",
    "print('Insert 완료...')\n"
   ]
  },
  {
   "cell_type": "code",
   "execution_count": 9,
   "metadata": {},
   "outputs": [
    {
     "ename": "AttributeError",
     "evalue": "'Connection' object has no attribute 'cloes'",
     "output_type": "error",
     "traceback": [
      "\u001b[1;31m---------------------------------------------------------------------------\u001b[0m",
      "\u001b[1;31mAttributeError\u001b[0m                            Traceback (most recent call last)",
      "Cell \u001b[1;32mIn[9], line 23\u001b[0m\n\u001b[0;32m     20\u001b[0m conn\u001b[39m.\u001b[39mcommit()\n\u001b[0;32m     22\u001b[0m \u001b[39m# 데이터베이스 종료\u001b[39;00m\n\u001b[1;32m---> 23\u001b[0m conn\u001b[39m.\u001b[39;49mcloes()\n\u001b[0;32m     25\u001b[0m \u001b[39mprint\u001b[39m(\u001b[39m'\u001b[39m\u001b[39mUpdate 완료...\u001b[39m\u001b[39m'\u001b[39m)\n",
      "\u001b[1;31mAttributeError\u001b[0m: 'Connection' object has no attribute 'cloes'"
     ]
    }
   ],
   "source": [
    "#Update 실습\n",
    "\n",
    "#데이터베이스 접속\n",
    "conn = pymysql.connect(host='127.0.0.1',\n",
    "                        user='root',\n",
    "                        password='1234',\n",
    "                        db='java1db',\n",
    "                        charset='utf8')\n",
    "\n",
    "# SQL 실행객체\n",
    "cur = conn.cursor()\n",
    "\n",
    "# SQL 실행\n",
    "sql = \"update `user1` set \"\n",
    "sql += \"`name` = '홍길동',\"\n",
    "sql += \"`hp` = '010-1111-2222',\"\n",
    "sql += \"`age` = 27 \"\n",
    "sql += \"where `uid` = 'p101';\"\n",
    "cur.execute(sql)\n",
    "conn.commit()\n",
    "\n",
    "# 데이터베이스 종료\n",
    "conn.cloes()\n",
    "\n",
    "print('Update 완료...')"
   ]
  },
  {
   "cell_type": "code",
   "execution_count": 11,
   "metadata": {},
   "outputs": [
    {
     "name": "stdout",
     "output_type": "stream",
     "text": [
      "Delete 완료...\n"
     ]
    }
   ],
   "source": [
    "#Delete 실습\n",
    "\n",
    "#데이터베이스 접속\n",
    "conn = pymysql.connect(host='127.0.0.1',\n",
    "                        user='root',\n",
    "                        password='1234',\n",
    "                        db='java1db',\n",
    "                        charset='utf8')\n",
    "\n",
    "# SQL 실행객체\n",
    "cur = conn.cursor()\n",
    "\n",
    "# SQL 실행\n",
    "sql = \"delete from `user1` where `uid`='p101';\"\n",
    "\n",
    "cur.execute(sql)\n",
    "conn.commit()\n",
    "\n",
    "# 데이터베이스 종료\n",
    "conn.close()\n",
    "\n",
    "print('Delete 완료...')"
   ]
  },
  {
   "cell_type": "code",
   "execution_count": 12,
   "metadata": {},
   "outputs": [
    {
     "name": "stdout",
     "output_type": "stream",
     "text": [
      "---------------\n",
      "아이디 : a202\n",
      "비밀번호 : 1234\n",
      "이름 : 고주몽\n",
      "휴대폰 : 010-2222-2222\n",
      "나이 : 23\n",
      "---------------\n",
      "---------------\n",
      "아이디 : a323\n",
      "비밀번호 : 1234\n",
      "이름 : 이순신2\n",
      "휴대폰 : 010-3322-2222\n",
      "나이 : 32\n",
      "---------------\n",
      "---------------\n",
      "아이디 : c0123\n",
      "비밀번호 : 1234\n",
      "이름 : 김김\n",
      "휴대폰 : 023-2312-2132\n",
      "나이 : 34\n",
      "---------------\n",
      "---------------\n",
      "아이디 : ebds2123\n",
      "비밀번호 : 1234\n",
      "이름 : 붕붕1\n",
      "휴대폰 : 010-2323-2323\n",
      "나이 : 80\n",
      "---------------\n",
      "Select 완료...\n"
     ]
    }
   ],
   "source": [
    "#Select 실습\n",
    "\n",
    "#데이터베이스 접속\n",
    "conn = pymysql.connect(host='127.0.0.1',\n",
    "                        user='root',\n",
    "                        password='1234',\n",
    "                        db='java1db',\n",
    "                        charset='utf8')\n",
    "\n",
    "cur = conn.cursor()\n",
    "\n",
    "sql = \"select * from `user1`\"\n",
    "cur.execute(sql)\n",
    "conn.commit()\n",
    "\n",
    "#데이터 출력\n",
    "for row in cur.fetchall():\n",
    "    print('---------------')\n",
    "    print('아이디 :',row[0])\n",
    "    print('비밀번호 :',row[1])\n",
    "    print('이름 :',row[2])\n",
    "    print('휴대폰 :',row[3])\n",
    "    print('나이 :',row[4])\n",
    "    print('---------------')\n",
    "\n",
    "\n",
    "conn.close()\n",
    "print('Select 완료...')\n"
   ]
  }
 ],
 "metadata": {
  "kernelspec": {
   "display_name": "Python 3",
   "language": "python",
   "name": "python3"
  },
  "language_info": {
   "codemirror_mode": {
    "name": "ipython",
    "version": 3
   },
   "file_extension": ".py",
   "mimetype": "text/x-python",
   "name": "python",
   "nbconvert_exporter": "python",
   "pygments_lexer": "ipython3",
   "version": "3.11.1"
  },
  "orig_nbformat": 4,
  "vscode": {
   "interpreter": {
    "hash": "ca3167030a8377a7b82d5e665b459d458267ba920e721652be188ae573e682bb"
   }
  }
 },
 "nbformat": 4,
 "nbformat_minor": 2
}
